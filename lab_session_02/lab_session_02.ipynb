{
 "cells": [
  {
   "cell_type": "markdown",
   "metadata": {},
   "source": [
    "Before you turn this problem in, make sure everything runs as expected. First, **restart the kernel** (in the menubar, select Kernel$\\rightarrow$Restart) and then **run all cells** (in the menubar, select Cell$\\rightarrow$Run All).\n",
    "\n",
    "Make sure you fill in any place that says `YOUR CODE HERE` or \"YOUR ANSWER HERE\", as well as your name and collaborators below:"
   ]
  },
  {
   "cell_type": "code",
   "execution_count": null,
   "metadata": {},
   "outputs": [],
   "source": [
    "NAME = \"\"\n",
    "COLLABORATORS = \"\""
   ]
  },
  {
   "cell_type": "markdown",
   "metadata": {},
   "source": [
    "---"
   ]
  },
  {
   "cell_type": "markdown",
   "metadata": {
    "deletable": false,
    "editable": false,
    "nbgrader": {
     "cell_type": "markdown",
     "checksum": "f91c6267fa0dc7df94b596237af1c314",
     "grade": false,
     "grade_id": "cell-af5a035c54cd45c0",
     "locked": true,
     "schema_version": 3,
     "solution": false,
     "task": false
    },
    "tags": [
     "meta",
     "toc_en"
    ],
    "toc-hr-collapsed": false
   },
   "source": [
    "# CSE204 - Introduction to Machine Learning - Lab Session 2: parametric models\n",
    "\n",
    "<img src=\"https://raw.githubusercontent.com/adimajo/polytechnique-cse204-2019-releases/master/logo.jpg\" style=\"float: left; width: 15%\" />\n",
    "\n",
    "[CSE204-2019](https://moodle.polytechnique.fr/course/view.php?id=7862) Lab session #02\n",
    "\n",
    "Jérémie DECOCK - Adrien EHRHARDT"
   ]
  },
  {
   "cell_type": "markdown",
   "metadata": {
    "deletable": false,
    "editable": false,
    "nbgrader": {
     "cell_type": "markdown",
     "checksum": "0af45c78ad1ba15c8aedc15f912abac7",
     "grade": false,
     "grade_id": "cell-c38b63e667cc3125",
     "locked": true,
     "schema_version": 3,
     "solution": false,
     "task": false
    }
   },
   "source": [
    "[![Open in Google Colab](https://colab.research.google.com/assets/colab-badge.svg)](https://colab.research.google.com/github/adimajo/polytechnique-cse204-2019-releases/blob/master/lab_session_02/lab_session_02.ipynb)\n",
    "\n",
    "[![My Binder](https://mybinder.org/badge_logo.svg)](https://mybinder.org/v2/gh/adimajo/polytechnique-cse204-2019-releases/master?filepath=lab_session_02%2Flab_session_02.ipynb)\n",
    "\n",
    "[![Local](https://img.shields.io/badge/Local-Save%20As...-blue)](https://github.com/adimajo/polytechnique-cse204-2019-releases/raw/master/lab_session_02/lab_session_02.ipynb)"
   ]
  },
  {
   "cell_type": "markdown",
   "metadata": {
    "deletable": false,
    "editable": false,
    "nbgrader": {
     "cell_type": "markdown",
     "checksum": "c834698b28120bc8d2bee8b8e118c97c",
     "grade": false,
     "grade_id": "cell-8936d2d1fab8ae72",
     "locked": true,
     "schema_version": 3,
     "solution": false,
     "task": false
    }
   },
   "source": [
    "## Objectives\n",
    "\n",
    "- Introduction to parametric models\n",
    "- Implement a linear regressor\n",
    "- Approximate the optimal parameters using a gradient descent algorithm\n",
    "- Linear regression with Scikit Learn\n",
    "- Implement a polynomial regressor"
   ]
  },
  {
   "cell_type": "markdown",
   "metadata": {
    "deletable": false,
    "editable": false,
    "nbgrader": {
     "cell_type": "markdown",
     "checksum": "f89eb2828604ed6d2572df3fec393df0",
     "grade": false,
     "grade_id": "cell-e93c2d0251fc72af",
     "locked": true,
     "schema_version": 3,
     "solution": false,
     "task": false
    }
   },
   "source": [
    "## Imports and tool functions"
   ]
  },
  {
   "cell_type": "code",
   "execution_count": null,
   "metadata": {
    "deletable": false,
    "editable": false,
    "nbgrader": {
     "cell_type": "code",
     "checksum": "00d26bfb3b59c0dd67522997118f0654",
     "grade": false,
     "grade_id": "cell-bee7cf2e0c77d7af",
     "locked": true,
     "schema_version": 3,
     "solution": false,
     "task": false
    }
   },
   "outputs": [],
   "source": [
    "colab_requirements = [\n",
    "    \"matplotlib>=3.1.2\",\n",
    "    \"pandas>=0.25.3\",\n",
    "    \"numpy>=1.18.1\",\n",
    "    \"scikit-learn>=0.22.1\",\n",
    "    \"nose>=1.3.7\"\n",
    "]\n",
    "import sys, subprocess\n",
    "def run_subprocess_command(cmd):\n",
    "    # run the command\n",
    "    process = subprocess.Popen(cmd.split(), stdout=subprocess.PIPE)\n",
    "    # print the output\n",
    "    for line in process.stdout:\n",
    "        print(line.decode().strip())\n",
    "        \n",
    "if \"google.colab\" in sys.modules:\n",
    "    for i in colab_requirements:\n",
    "        run_subprocess_command(\"pip install \" + i)"
   ]
  },
  {
   "cell_type": "code",
   "execution_count": null,
   "metadata": {
    "deletable": false,
    "editable": false,
    "nbgrader": {
     "cell_type": "code",
     "checksum": "04f8080c0c56c2a5cc020ce62102681b",
     "grade": false,
     "grade_id": "cell-a6a109c8cb7dee00",
     "locked": true,
     "schema_version": 3,
     "solution": false,
     "task": false
    }
   },
   "outputs": [],
   "source": [
    "%matplotlib inline\n",
    "\n",
    "import numpy as np\n",
    "import pandas as pd\n",
    "import matplotlib.pyplot as plt\n",
    "\n",
    "import sklearn\n",
    "import sklearn.linear_model\n",
    "import sklearn.pipeline\n",
    "import sklearn.preprocessing"
   ]
  },
  {
   "cell_type": "code",
   "execution_count": null,
   "metadata": {
    "deletable": false,
    "editable": false,
    "nbgrader": {
     "cell_type": "code",
     "checksum": "fcbece11053b547a0c3fbe3e5756d06e",
     "grade": false,
     "grade_id": "cell-d613acb2259d7a86",
     "locked": true,
     "schema_version": 3,
     "solution": false,
     "task": false
    }
   },
   "outputs": [],
   "source": [
    "def gen_1d_linear_regression_samples(n_samples = 20):\n",
    "    x = np.random.uniform(low=-10., high=10., size=n_samples)\n",
    "    y = 2. * x + 3. + np.random.normal(scale=2., size=x.shape)\n",
    "    df = pd.DataFrame(np.array([x, y]).T, columns=['x', 'y'])\n",
    "    df = sklearn.utils.shuffle(df).reset_index(drop=True)\n",
    "    return df"
   ]
  },
  {
   "cell_type": "code",
   "execution_count": null,
   "metadata": {
    "deletable": false,
    "editable": false,
    "nbgrader": {
     "cell_type": "code",
     "checksum": "06d4eb4af48850c426e9131046393d79",
     "grade": false,
     "grade_id": "cell-d366b5af6ba65418",
     "locked": true,
     "schema_version": 3,
     "solution": false,
     "task": false
    }
   },
   "outputs": [],
   "source": [
    "def gen_1d_polynomial_regression_samples(n_samples = 15):\n",
    "    x = np.random.uniform(low=0., high=10., size=n_samples)\n",
    "    y = 3. - 2. * x + x ** 2 - x ** 3 + np.random.normal(scale=10., size=x.shape)\n",
    "    df = pd.DataFrame(np.array([x, y]).T, columns=['x', 'y'])\n",
    "    df = sklearn.utils.shuffle(df).reset_index(drop=True)\n",
    "    return df"
   ]
  },
  {
   "cell_type": "code",
   "execution_count": null,
   "metadata": {
    "deletable": false,
    "editable": false,
    "nbgrader": {
     "cell_type": "code",
     "checksum": "fa17ee90cda0ef9954f23067f9925751",
     "grade": false,
     "grade_id": "cell-3f2402bcb26ea3d9",
     "locked": true,
     "schema_version": 3,
     "solution": false,
     "task": false
    }
   },
   "outputs": [],
   "source": [
    "def plot_1d_regression_samples(dataframe, model=None):\n",
    "    fig, ax = plt.subplots(figsize=(8, 8))\n",
    "    \n",
    "    df = dataframe  # make an alias\n",
    "    \n",
    "    ERROR_MSG1 = \"The `dataframe` parameter should be a Pandas DataFrame having the following columns: ['x', 'y']\"\n",
    "    assert df.columns.values.tolist() == ['x', 'y'], ERROR_MSG1\n",
    "    \n",
    "    if model is not None:\n",
    "        \n",
    "        # Compute the model's prediction\n",
    "        \n",
    "        x_pred = np.linspace(df.x.min(), df.x.max(), 100).reshape(-1, 1)\n",
    "        y_pred = model.predict(x_pred)\n",
    "        \n",
    "        df_pred = pd.DataFrame(np.array([x_pred.flatten(), y_pred.flatten()]).T, columns=['x', 'y'])\n",
    "        \n",
    "        df_pred.plot(x='x', y='y', style='r--', ax=ax)\n",
    "\n",
    "    # Plot also the training points\n",
    "    \n",
    "    df.plot.scatter(x='x', y='y', ax=ax)\n",
    "    \n",
    "    delta_y = df.y.max() - df.y.min()\n",
    "    \n",
    "    plt.ylim((df.y.min() - 0.15 * delta_y,\n",
    "              df.y.max() + 0.15 * delta_y))"
   ]
  },
  {
   "cell_type": "code",
   "execution_count": null,
   "metadata": {
    "deletable": false,
    "editable": false,
    "nbgrader": {
     "cell_type": "code",
     "checksum": "f419286fdd4f0decbdbcdc3c41663f5e",
     "grade": false,
     "grade_id": "cell-baa27ef83deebf30",
     "locked": true,
     "schema_version": 3,
     "solution": false,
     "task": false
    }
   },
   "outputs": [],
   "source": [
    "def plot_ex2(X, y, theta_0=None, theta_1=None):\n",
    "    df = pd.DataFrame(np.array([X, y]).T, columns=['x', 'y'])\n",
    "\n",
    "    ax = df.plot.scatter(x=\"x\", y=\"y\")\n",
    "\n",
    "    if theta_0 is not None and theta_1 is not None:\n",
    "        x = np.array([1, 9])\n",
    "        y = theta_0 + theta_1 * x\n",
    "\n",
    "        ax.plot(x, y, \"--r\")"
   ]
  },
  {
   "cell_type": "code",
   "execution_count": null,
   "metadata": {
    "deletable": false,
    "editable": false,
    "nbgrader": {
     "cell_type": "code",
     "checksum": "f4d7d19b7f3999fb929935cc6b1ee705",
     "grade": false,
     "grade_id": "cell-08408678be2dfb81",
     "locked": true,
     "schema_version": 3,
     "solution": false,
     "task": false
    }
   },
   "outputs": [],
   "source": [
    "def plot_ex4(X, y, theta_1=None, theta_2=None):\n",
    "    df = pd.DataFrame(np.array([X, y]).T, columns=['x', 'y'])\n",
    "\n",
    "    ax = df.plot.scatter(x=\"x\", y=\"y\")\n",
    "\n",
    "    if theta_1 is not None and theta_2 is not None:\n",
    "        x = np.linspace(0, 6, 50)\n",
    "        y = theta_1 * x + theta_2 * x**2\n",
    "\n",
    "        ax.plot(x, y, \"--r\")"
   ]
  },
  {
   "cell_type": "code",
   "execution_count": null,
   "metadata": {
    "deletable": false,
    "editable": false,
    "nbgrader": {
     "cell_type": "code",
     "checksum": "698ea560e7b361ee4fb1aec0622f9934",
     "grade": false,
     "grade_id": "cell-03ac0a794c0b13ec",
     "locked": true,
     "schema_version": 3,
     "solution": false,
     "task": false
    }
   },
   "outputs": [],
   "source": [
    "import matplotlib.colors as colors\n",
    "from mpl_toolkits.mplot3d import axes3d\n",
    "\n",
    "def plot_contour_2d_solution_space(func,\n",
    "                                   fig=None,\n",
    "                                   ax=None,\n",
    "                                   show=True,\n",
    "                                   theta_min=-np.ones(2),\n",
    "                                   theta_max=np.ones(2),\n",
    "                                   theta_star=None,\n",
    "                                   theta_visited=None,\n",
    "                                   title=\"\"):\n",
    "    \"\"\"Plot points visited during the execution of an optimization algorithm.\"\"\"\n",
    "    if (fig is None) or (ax is None):\n",
    "        fig, ax = plt.subplots(figsize=(12, 8))\n",
    "\n",
    "    if theta_visited is not None:\n",
    "        theta_min = np.amin(np.hstack([theta_min.reshape([-1, 1]), theta_visited]), axis=1)\n",
    "        theta_max = np.amax(np.hstack([theta_max.reshape([-1, 1]), theta_visited]), axis=1)\n",
    "\n",
    "    x1_space = np.linspace(theta_min[0], theta_max[0], 200)\n",
    "    x2_space = np.linspace(theta_min[1], theta_max[1], 200)\n",
    "\n",
    "    x1_mesh, x2_mesh = np.meshgrid(x1_space, x2_space)\n",
    "\n",
    "    zz = func(np.array([x1_mesh.ravel(), x2_mesh.ravel()])).reshape(x1_mesh.shape)\n",
    "\n",
    "    ############################\n",
    "\n",
    "    if theta_star is not None:\n",
    "        min_value = func(theta_star)\n",
    "    else:\n",
    "        min_value = zz.min()\n",
    "        \n",
    "    max_value = zz.max()\n",
    "\n",
    "    levels = np.logspace(0.1, 3., 5)\n",
    "\n",
    "    im = ax.pcolormesh(x1_mesh, x2_mesh, zz,\n",
    "                       vmin=0.1,\n",
    "                       vmax=max_value,\n",
    "                       norm=colors.LogNorm(),\n",
    "                       shading='gouraud',\n",
    "                       cmap='gnuplot2')\n",
    "\n",
    "    plt.colorbar(im, ax=ax)\n",
    "\n",
    "    cs = plt.contour(x1_mesh, x2_mesh, zz, levels,\n",
    "                     linewidths=(2, 2, 2, 2, 3),\n",
    "                     linestyles=('dotted', '-.', 'dashed', 'solid', 'solid'),\n",
    "                     alpha=0.5,\n",
    "                     colors='white')\n",
    "    ax.clabel(cs, inline=False, fontsize=12)\n",
    "\n",
    "    ############################\n",
    "\n",
    "    if theta_visited is not None:\n",
    "        ax.plot(theta_visited[0],\n",
    "                theta_visited[1],\n",
    "                '-og',\n",
    "                alpha=0.5,\n",
    "                label=\"$visited$\")\n",
    "\n",
    "    ############################\n",
    "\n",
    "    if theta_star is not None:\n",
    "        sc = ax.scatter(theta_star[0],\n",
    "                   theta_star[1],\n",
    "                   c='red',\n",
    "                   label=r\"$\\theta^*$\")\n",
    "        sc.set_zorder(10)        # put this point above every thing else\n",
    "\n",
    "    ############################\n",
    "\n",
    "    ax.set_title(title, fontsize=16)\n",
    "\n",
    "    ax.set_xlabel(r\"$\\theta_0$\", fontsize=16)\n",
    "    ax.set_ylabel(r\"$\\theta_1$\", fontsize=16)\n",
    "\n",
    "    ax.legend(fontsize=16)\n",
    "\n",
    "    if show:\n",
    "        plt.show()\n",
    "\n",
    "    return fig, ax"
   ]
  },
  {
   "cell_type": "code",
   "execution_count": null,
   "metadata": {
    "deletable": false,
    "editable": false,
    "nbgrader": {
     "cell_type": "code",
     "checksum": "1eed9ca160882eb63981a0aaf0351fc2",
     "grade": false,
     "grade_id": "cell-617671be3a391ee8",
     "locked": true,
     "schema_version": 3,
     "solution": false,
     "task": false
    }
   },
   "outputs": [],
   "source": [
    "def plot_2d_solution_space(func,\n",
    "                           fig=None,\n",
    "                           ax=None,\n",
    "                           show=True,\n",
    "                           theta_min=-np.ones(2),\n",
    "                           theta_max=np.ones(2),\n",
    "                           theta_star=None,\n",
    "                           theta_visited=None,\n",
    "                           angle_view=None,\n",
    "                           title=\"\"):\n",
    "    \"\"\"Plot points visited during the execution of an optimization algorithm.\"\"\"\n",
    "    if fig is None or ax is None:\n",
    "        fig = plt.figure(figsize=(12, 8))\n",
    "        ax = axes3d.Axes3D(fig)\n",
    "\n",
    "    if angle_view is not None:\n",
    "        ax.view_init(angle_view[0], angle_view[1])\n",
    "\n",
    "    x1_space = np.linspace(theta_min[0], theta_max[0], 100)\n",
    "    x2_space = np.linspace(theta_min[1], theta_max[1], 100)\n",
    "\n",
    "    x1_mesh, x2_mesh = np.meshgrid(x1_space, x2_space)\n",
    "\n",
    "    zz = func(np.array([x1_mesh.ravel(), x2_mesh.ravel()])).reshape(x1_mesh.shape)\n",
    "\n",
    "    ############################\n",
    "\n",
    "    surf = ax.plot_surface(x1_mesh,\n",
    "                           x2_mesh,\n",
    "                           zz,\n",
    "                           cmap='gnuplot2',\n",
    "                           norm=colors.LogNorm(),\n",
    "                           rstride=1,\n",
    "                           cstride=1,\n",
    "                           shade=False)\n",
    "\n",
    "    ax.set_zlabel(r\"$E(\\theta)$\")\n",
    "\n",
    "    fig.colorbar(surf, shrink=0.5, aspect=5)\n",
    "\n",
    "    ############################\n",
    "\n",
    "    if theta_star is not None:\n",
    "        ax.scatter(theta_star[0],\n",
    "                   theta_star[1],\n",
    "                   func(theta_star),\n",
    "                   c='red',\n",
    "                   alpha=1,\n",
    "                   label=r\"$\\theta^*$\")\n",
    "\n",
    "    ax.set_title(title, fontsize=16)\n",
    "    ax.set_xlabel(r\"$\\theta_0$\", fontsize=16)\n",
    "    ax.set_ylabel(r\"$\\theta_1$\", fontsize=16)\n",
    "\n",
    "    if show:\n",
    "        plt.show()\n",
    "\n",
    "    return fig, ax"
   ]
  },
  {
   "cell_type": "markdown",
   "metadata": {
    "deletable": false,
    "editable": false,
    "nbgrader": {
     "cell_type": "markdown",
     "checksum": "937f649393f6d8f98d12d0e6e16ba8c2",
     "grade": false,
     "grade_id": "cell-be70105c106f3c0d",
     "locked": true,
     "schema_version": 3,
     "solution": false,
     "task": false
    }
   },
   "source": [
    "## Introduction"
   ]
  },
  {
   "cell_type": "markdown",
   "metadata": {
    "deletable": false,
    "editable": false,
    "nbgrader": {
     "cell_type": "markdown",
     "checksum": "0eb405082cd053882c323deed579a752",
     "grade": false,
     "grade_id": "cell-c85056646ced4537",
     "locked": true,
     "schema_version": 3,
     "solution": false,
     "task": false
    }
   },
   "source": [
    "Today you will learn to solve regression problems using **parametric models** (the application of parametric models to classification problems will be the subject of another session): you will use a parametric function $f_{\\boldsymbol{\\theta}}: \\boldsymbol{x} \\mapsto y$ to infer the link existing between input vectors $\\boldsymbol{x} \\in \\mathbb{R}^p$ and output values $y \\in \\mathbb{R}$ in a *learning set* $\\mathcal{D} = \\{(y^{(i)}, \\boldsymbol{x^{(i)}})\\}_{1 \\leq i \\leq n}$ of $n$ examples.\n",
    "\n",
    "The *hypothesis space* $\\mathcal{H}$ of $f_{\\boldsymbol{\\theta}}$ is a priori chosen so that the model fits reasonably well the data in $\\mathcal{D}$. For instance, $\\mathcal{H}$ can be the space of linear functions if data seems to be distributed along a line in $\\mathcal{D}$. The space of polynomial function of degree $d>1$ may be a good choice otherwise."
   ]
  },
  {
   "cell_type": "markdown",
   "metadata": {
    "deletable": false,
    "editable": false,
    "nbgrader": {
     "cell_type": "markdown",
     "checksum": "2d8fcdbea09dd6d12a6adab943d9b804",
     "grade": false,
     "grade_id": "cell-495715032500736b",
     "locked": true,
     "schema_version": 3,
     "solution": false,
     "task": false
    }
   },
   "source": [
    "The parameter $\\boldsymbol{\\theta}^* = \\begin{pmatrix} \\theta_0^* & \\dots & \\theta_p^* \\end{pmatrix}^T$ is then searched to obtain the best fit between $f_{\\boldsymbol{\\theta}}$ and $\\mathcal{D}$. This is an optimization problem."
   ]
  },
  {
   "cell_type": "markdown",
   "metadata": {
    "deletable": false,
    "editable": false,
    "nbgrader": {
     "cell_type": "markdown",
     "checksum": "4fc16e3021bba44a8780e25a320d6215",
     "grade": false,
     "grade_id": "cell-d638b5451d2cc97c",
     "locked": true,
     "schema_version": 3,
     "solution": false,
     "task": false
    }
   },
   "source": [
    "For instance, assuming you have chosen the space of linear functions to make a model that describes data you have in $\\mathcal{D}$. Your model is then $y = \\theta_0 + \\theta_1 x$ and the regression problem consists in finding the best parameters (or estimators) $\\theta_0$ and $\\theta_1$ for it."
   ]
  },
  {
   "cell_type": "markdown",
   "metadata": {
    "deletable": false,
    "editable": false,
    "nbgrader": {
     "cell_type": "markdown",
     "checksum": "a49474732a451cda53de06e6c41e5ee2",
     "grade": false,
     "grade_id": "cell-105796cda48284cd",
     "locked": true,
     "schema_version": 3,
     "solution": false,
     "task": false
    }
   },
   "source": [
    "**Note**: there are some differences in notations with the lecture slides: parameters are noted $w$ (for \"weights\": machine learning community) in lectures but they are noted $\\theta$ (for parameters: statistics community) here."
   ]
  },
  {
   "cell_type": "markdown",
   "metadata": {
    "deletable": false,
    "editable": false,
    "nbgrader": {
     "cell_type": "markdown",
     "checksum": "97526d02d1d28fc667548df245707454",
     "grade": false,
     "grade_id": "cell-effda178ed28f9a9",
     "locked": true,
     "schema_version": 3,
     "solution": false,
     "task": false
    }
   },
   "source": [
    "## Linear regression: an analytic definition of the optimal parameters"
   ]
  },
  {
   "cell_type": "markdown",
   "metadata": {
    "deletable": false,
    "editable": false,
    "nbgrader": {
     "cell_type": "markdown",
     "checksum": "316984cd84a18a6a3f12624172c6730d",
     "grade": false,
     "grade_id": "cell-9e460f50efcfb03c",
     "locked": true,
     "schema_version": 3,
     "solution": false,
     "task": false
    }
   },
   "source": [
    "We have a *learning set* $\\mathcal{D} = \\{(y^{(i)}, \\boldsymbol{x^{(i)}})\\}_{1 \\leq i \\leq n}$.\n",
    "\n",
    "We assume:\n",
    "- Errors (difference between actual labels $y$ and predicted labels $f_{\\theta}(\\boldsymbol{x})$) are gaussian random values centered on 0: $y = f_{\\boldsymbol{\\theta}}(\\boldsymbol{x}) + \\epsilon$ with $\\epsilon \\sim \\mathcal{N}(0, \\sigma^2)$.\n",
    "- Data is modeled with a linear function: $f_{\\boldsymbol{\\theta}}(\\boldsymbol{x}) = \\theta_0 + \\sum_{j=1}^p \\theta_j \\boldsymbol{x}_j$.\n"
   ]
  },
  {
   "cell_type": "markdown",
   "metadata": {
    "deletable": false,
    "editable": false,
    "nbgrader": {
     "cell_type": "markdown",
     "checksum": "90508481dbce0ec218ad7b61ce4c73e7",
     "grade": false,
     "grade_id": "cell-9f12cf6556b45692",
     "locked": true,
     "schema_version": 3,
     "solution": false,
     "task": false
    }
   },
   "source": [
    "- Observations $\\boldsymbol{x} \\in \\mathbb{R}^p$ can be defined as $p$ random values $X_1, X_2, \\dots, X_p$\n",
    "- Labels $y$ are then realization of a random value $Y$ so that:"
   ]
  },
  {
   "cell_type": "markdown",
   "metadata": {
    "deletable": false,
    "editable": false,
    "nbgrader": {
     "cell_type": "markdown",
     "checksum": "53d57619ca548009c952784563d6522c",
     "grade": false,
     "grade_id": "cell-9653f671cc4f867e",
     "locked": true,
     "schema_version": 3,
     "solution": false,
     "task": false
    }
   },
   "source": [
    "$$Y \\sim \\mathcal{N}(\\underbrace{f(\\boldsymbol{x} | \\boldsymbol{\\theta})}_{\\mu}, \\sigma^2)$$"
   ]
  },
  {
   "cell_type": "markdown",
   "metadata": {
    "deletable": false,
    "editable": false,
    "nbgrader": {
     "cell_type": "markdown",
     "checksum": "dc500ec926cc70102b3504a7508b2b47",
     "grade": false,
     "grade_id": "cell-df29b0d7ce3ee807",
     "locked": true,
     "schema_version": 3,
     "solution": false,
     "task": false
    }
   },
   "source": [
    "We want to find the estimator $\\boldsymbol{\\theta}^* = \\begin{pmatrix} \\theta_0^* & \\dots & \\theta_p^* \\end{pmatrix}^T$ that gives the best fit between $f_{\\boldsymbol{\\theta}}$ and $\\mathcal{D}$ (optimization problem).\n",
    "\n",
    "Finding the best $\\boldsymbol{\\theta}^*$ is a maximum likelihood problem : $\\boldsymbol{\\theta}^* \\leftarrow \\arg\\max_{\\boldsymbol{\\theta}} \\mathbb{P}(\\mathcal{D}|\\boldsymbol{\\theta})$.\n",
    "Here, this is equivalent to apply the method of *least squares* or to minimize the Mean Square Error (MSE).\n",
    "Using the matrix notation, we define the linear regression problem as:\n",
    "\n",
    "$$\\boldsymbol{\\theta}^* \\leftarrow \\arg\\min_{\\boldsymbol{\\theta}} E(\\boldsymbol{\\theta}) \\quad \\text{with} \\quad E(\\boldsymbol{\\theta}) = \\frac12 (\\boldsymbol{y} - \\boldsymbol{X} \\boldsymbol{\\theta})^2$$"
   ]
  },
  {
   "cell_type": "markdown",
   "metadata": {
    "deletable": false,
    "editable": false,
    "nbgrader": {
     "cell_type": "markdown",
     "checksum": "4b53354ee0edc5383db7c8492c8d5fc0",
     "grade": false,
     "grade_id": "cell-61475c62d66cbf76",
     "locked": true,
     "schema_version": 3,
     "solution": false,
     "task": false
    }
   },
   "source": [
    "and with\n",
    "\n",
    "$$\n",
    "\\boldsymbol{X} = \\begin{pmatrix} 1 & x_1^{(1)} & \\dots & x_p^{(1)} \\\\ \\vdots & \\vdots & \\dots & \\vdots \\\\ 1 & x_1^{(n)} & \\dots & x_p^{(n)} \\end{pmatrix}\n",
    "\\quad \\quad\n",
    "\\boldsymbol{y} = \\begin{pmatrix} y^{(1)} \\\\ \\vdots \\\\ y^{(n)} \\end{pmatrix}\n",
    "\\quad \\quad\n",
    "\\boldsymbol{\\theta} = \\begin{pmatrix} \\theta_0 \\\\ \\vdots \\\\ \\theta_p \\end{pmatrix}\n",
    "$$\n",
    "\n",
    "$E(\\boldsymbol{\\theta})$ is a quadratic form (convex function) thus it has a unique global minimum $\\boldsymbol{\\theta^*}$ where $\\nabla_{\\boldsymbol{\\theta^*}} E(\\boldsymbol{\\theta^*}) = \\boldsymbol{0}$"
   ]
  },
  {
   "cell_type": "markdown",
   "metadata": {
    "deletable": false,
    "editable": false,
    "nbgrader": {
     "cell_type": "markdown",
     "checksum": "2d46f98e5163c2d1c39c52f82f967332",
     "grade": false,
     "grade_id": "cell-b82ff7d33e4f9d19",
     "locked": true,
     "schema_version": 3,
     "solution": false,
     "task": false
    }
   },
   "source": [
    "### Exercise 1\n",
    "\n",
    "On a sheet of paper:\n",
    "- Compute the analytic formulation of the gradient $\\nabla_{\\boldsymbol{\\theta}} E(\\boldsymbol{\\theta})$ of the Mean Square Error $E(\\boldsymbol{\\theta}) = \\frac12 (\\boldsymbol{y} - \\boldsymbol{X} \\boldsymbol{\\theta})^2$\n",
    "- Compute the analytic formulation of the optimal parameter $\\boldsymbol{\\theta^*}$"
   ]
  },
  {
   "cell_type": "markdown",
   "metadata": {
    "deletable": false,
    "nbgrader": {
     "cell_type": "markdown",
     "checksum": "2315b928abfeea518c03acfc35621eee",
     "grade": true,
     "grade_id": "cell-109713b1f8185947",
     "locked": false,
     "points": 2,
     "schema_version": 3,
     "solution": true,
     "task": false
    }
   },
   "source": [
    "YOUR ANSWER HERE"
   ]
  },
  {
   "cell_type": "markdown",
   "metadata": {
    "deletable": false,
    "editable": false,
    "nbgrader": {
     "cell_type": "markdown",
     "checksum": "bcae707cf2acbbbcb76cce1cb9b04c5b",
     "grade": false,
     "grade_id": "cell-44cf7d2487981df4",
     "locked": true,
     "schema_version": 3,
     "solution": false,
     "task": false
    }
   },
   "source": [
    "## Example"
   ]
  },
  {
   "cell_type": "markdown",
   "metadata": {
    "deletable": false,
    "editable": false,
    "nbgrader": {
     "cell_type": "markdown",
     "checksum": "172d687f7f22e6c17b09b8f1091689a7",
     "grade": false,
     "grade_id": "cell-190d1365ff2067b0",
     "locked": true,
     "schema_version": 3,
     "solution": false,
     "task": false
    }
   },
   "source": [
    "### Exercise 2"
   ]
  },
  {
   "cell_type": "markdown",
   "metadata": {
    "deletable": false,
    "editable": false,
    "nbgrader": {
     "cell_type": "markdown",
     "checksum": "596f2d44269b5550fc87a3e6ef71c12c",
     "grade": false,
     "grade_id": "cell-e61f02986c51754a",
     "locked": true,
     "schema_version": 3,
     "solution": false,
     "task": false
    }
   },
   "source": [
    "#### Question 1"
   ]
  },
  {
   "cell_type": "markdown",
   "metadata": {
    "deletable": false,
    "editable": false,
    "nbgrader": {
     "cell_type": "markdown",
     "checksum": "661c76bc40232ce43fa09fbb0d61b7ce",
     "grade": false,
     "grade_id": "cell-3f0edd2c6f447980",
     "locked": true,
     "schema_version": 3,
     "solution": false,
     "task": false
    }
   },
   "source": [
    "Use the previous equations to compute **by hand** (i.e. on a sheet of paper) the optimal parameters $\\theta_0$ and $\\theta_1$ of the model $y = \\theta_0 + \\theta_1 x$ to best fit the following dataset (of four observations):\n",
    "\n",
    "$$\\mathcal{D} = \\left\\{\n",
    "\\begin{pmatrix} 2 \\\\ 1 \\end{pmatrix},\n",
    "\\begin{pmatrix} 5 \\\\ 2 \\end{pmatrix},\n",
    "\\begin{pmatrix} 7 \\\\ 3 \\end{pmatrix},\n",
    "\\begin{pmatrix} 8 \\\\ 3 \\end{pmatrix}\n",
    "\\right\\}$$"
   ]
  },
  {
   "cell_type": "code",
   "execution_count": null,
   "metadata": {
    "deletable": false,
    "editable": false,
    "nbgrader": {
     "cell_type": "code",
     "checksum": "cad9ac2a7078d16d30711346e959ff7f",
     "grade": false,
     "grade_id": "cell-dc059da0f663bf52",
     "locked": true,
     "schema_version": 3,
     "solution": false,
     "task": false
    }
   },
   "outputs": [],
   "source": [
    "X = [2, 5, 7, 8]\n",
    "y = [1, 2, 3, 3]\n",
    "\n",
    "plot_ex2(X, y)"
   ]
  },
  {
   "cell_type": "markdown",
   "metadata": {
    "deletable": false,
    "nbgrader": {
     "cell_type": "markdown",
     "checksum": "58a287bdebdd319968ae15d772d24876",
     "grade": true,
     "grade_id": "cell-9b331f739a212645",
     "locked": false,
     "points": 2,
     "schema_version": 3,
     "solution": true,
     "task": false
    }
   },
   "source": [
    "YOUR ANSWER HERE"
   ]
  },
  {
   "cell_type": "markdown",
   "metadata": {
    "deletable": false,
    "editable": false,
    "nbgrader": {
     "cell_type": "markdown",
     "checksum": "a35c57603b11a1b89ea15b488dcb783b",
     "grade": false,
     "grade_id": "cell-9ab9b404e1d089d3",
     "locked": true,
     "schema_version": 3,
     "solution": false,
     "task": false
    }
   },
   "source": [
    "#### Question 2"
   ]
  },
  {
   "cell_type": "markdown",
   "metadata": {
    "deletable": false,
    "editable": false,
    "nbgrader": {
     "cell_type": "markdown",
     "checksum": "931538b6e4b8a54bcb8f3dd6fc8f6d5c",
     "grade": false,
     "grade_id": "cell-16b61b67d4d42e31",
     "locked": true,
     "schema_version": 3,
     "solution": false,
     "task": false
    }
   },
   "source": [
    "Check graphically that the model you obtained fits well with the data using the following cell (uncomment and complete the first two lines and uncomment the last one)."
   ]
  },
  {
   "cell_type": "code",
   "execution_count": null,
   "metadata": {
    "deletable": false,
    "nbgrader": {
     "cell_type": "code",
     "checksum": "b05d3cc291a3bbe157f93ecacc4eb549",
     "grade": false,
     "grade_id": "cell-504e60e2735f1d5f",
     "locked": false,
     "schema_version": 3,
     "solution": true,
     "task": false
    }
   },
   "outputs": [],
   "source": [
    "X = [2, 5, 7, 8]\n",
    "y = [1, 2, 3, 3]\n",
    "\n",
    "#theta_0 =                          # <- TO UNCOMMENT AND TO COMPLETE (intercept)\n",
    "#theta_1 =                          # <- TO UNCOMMENT AND TO COMPLETE (slope)\n",
    "\n",
    "#plot_ex2(X, y, theta_0, theta_1)   # <- TO UNCOMMENT\n",
    "\n",
    "# YOUR CODE HERE\n",
    "raise NotImplementedError()"
   ]
  },
  {
   "cell_type": "code",
   "execution_count": null,
   "metadata": {
    "deletable": false,
    "editable": false,
    "nbgrader": {
     "cell_type": "code",
     "checksum": "c88884422a73aa4f201b76b649d891ac",
     "grade": true,
     "grade_id": "cell-e6276dfa3ea06270",
     "locked": true,
     "points": 1,
     "schema_version": 3,
     "solution": false,
     "task": false
    }
   },
   "outputs": [],
   "source": []
  },
  {
   "cell_type": "markdown",
   "metadata": {
    "deletable": false,
    "editable": false,
    "nbgrader": {
     "cell_type": "markdown",
     "checksum": "2c33a3a996700048f192c2255b4bd7a0",
     "grade": false,
     "grade_id": "cell-6b304de18ae86fa9",
     "locked": true,
     "schema_version": 3,
     "solution": false,
     "task": false
    }
   },
   "source": [
    "#### Question 3"
   ]
  },
  {
   "cell_type": "markdown",
   "metadata": {
    "deletable": false,
    "editable": false,
    "nbgrader": {
     "cell_type": "markdown",
     "checksum": "ee0016be06abcd7fac7b24894c7b9ca9",
     "grade": false,
     "grade_id": "cell-b989380b0c14d3fe",
     "locked": true,
     "schema_version": 3,
     "solution": false,
     "task": false
    }
   },
   "source": [
    "Plot the MSE $E(\\theta)$ with the following cells.\n",
    "What is plotted ? What is the input space and the output space ?\n",
    "\n",
    "What can you say about these plots ?"
   ]
  },
  {
   "cell_type": "code",
   "execution_count": null,
   "metadata": {
    "deletable": false,
    "editable": false,
    "nbgrader": {
     "cell_type": "code",
     "checksum": "c5b0c72b998a6fdfd4ee385639ac00fd",
     "grade": false,
     "grade_id": "cell-ffc9930c3f3c6455",
     "locked": true,
     "schema_version": 3,
     "solution": false,
     "task": false
    }
   },
   "outputs": [],
   "source": [
    "X = np.array([[1, 1, 1, 1], [2, 5, 7, 8]]).T\n",
    "y = np.array([1, 2, 3, 3]).reshape(-1, 1)"
   ]
  },
  {
   "cell_type": "code",
   "execution_count": null,
   "metadata": {
    "deletable": false,
    "editable": false,
    "nbgrader": {
     "cell_type": "code",
     "checksum": "11606336bec33894e8a291d55a639f0e",
     "grade": false,
     "grade_id": "cell-6a8128493dfd49c0",
     "locked": true,
     "schema_version": 3,
     "solution": false,
     "task": false
    }
   },
   "outputs": [],
   "source": [
    "class MSE:\n",
    "    def __init__(self, X, y):\n",
    "        self.X = np.copy(X)\n",
    "        self.y = np.copy(y)\n",
    "        \n",
    "    def __call__(self, theta):\n",
    "        return 1./2. * ((np.tile(self.y, theta.shape[1]) - np.dot(self.X, theta))**2).sum(axis=0)\n",
    "    \n",
    "mse = MSE(X, y)"
   ]
  },
  {
   "cell_type": "code",
   "execution_count": null,
   "metadata": {
    "deletable": false,
    "editable": false,
    "nbgrader": {
     "cell_type": "code",
     "checksum": "e72902b840e614dc00c67b8c6811814b",
     "grade": false,
     "grade_id": "cell-7b5a60ff721eeab2",
     "locked": true,
     "schema_version": 3,
     "solution": false,
     "task": false
    }
   },
   "outputs": [],
   "source": [
    "plot_contour_2d_solution_space(mse,\n",
    "                               theta_min=np.array([-5, -1]),\n",
    "                               theta_max=np.array([5, 1]),\n",
    "                               theta_star=np.array([[theta_0], [theta_1]]));"
   ]
  },
  {
   "cell_type": "code",
   "execution_count": null,
   "metadata": {
    "deletable": false,
    "editable": false,
    "nbgrader": {
     "cell_type": "code",
     "checksum": "15760355925e92c4200a0dd090ca142d",
     "grade": false,
     "grade_id": "cell-843ab44c0d1f56e3",
     "locked": true,
     "schema_version": 3,
     "solution": false,
     "task": false
    }
   },
   "outputs": [],
   "source": [
    "plot_2d_solution_space(mse,\n",
    "                       theta_min=np.array([-5, -1]),\n",
    "                       theta_max=np.array([5, 1]));"
   ]
  },
  {
   "cell_type": "markdown",
   "metadata": {
    "deletable": false,
    "nbgrader": {
     "cell_type": "markdown",
     "checksum": "3da918966d6c3cb3d39ba44531761f94",
     "grade": true,
     "grade_id": "cell-1bea2faf56cbc3f4",
     "locked": false,
     "points": 1,
     "schema_version": 3,
     "solution": true,
     "task": false
    }
   },
   "source": [
    "YOUR ANSWER HERE"
   ]
  },
  {
   "cell_type": "markdown",
   "metadata": {
    "deletable": false,
    "editable": false,
    "nbgrader": {
     "cell_type": "markdown",
     "checksum": "306052048a0c1ffd67cd540dcdf4decc",
     "grade": false,
     "grade_id": "cell-66e963a155d6cda0",
     "locked": true,
     "schema_version": 3,
     "solution": false,
     "task": false
    }
   },
   "source": [
    "## Linear regression: an approximated solution using a *gradient descent* method"
   ]
  },
  {
   "cell_type": "markdown",
   "metadata": {
    "deletable": false,
    "editable": false,
    "nbgrader": {
     "cell_type": "markdown",
     "checksum": "107a5acf8a59ad3a965345a4c2d2a923",
     "grade": false,
     "grade_id": "cell-05d4a04f2d442539",
     "locked": true,
     "schema_version": 3,
     "solution": false,
     "task": false
    }
   },
   "source": [
    "When $(X^TX)^{-1}$ cannot be easily computed (e.g. no analytical solution or $\\mathcal{D}$ contains a lot of examples or the dimension of the solution space $\\mathcal{X}$ is too large), an approximated solution can be computed using a *gradient descent method*."
   ]
  },
  {
   "cell_type": "markdown",
   "metadata": {
    "deletable": false,
    "editable": false,
    "nbgrader": {
     "cell_type": "markdown",
     "checksum": "eb87b3df2a36710d44503ec34533fda7",
     "grade": false,
     "grade_id": "cell-5efce5b0664fc655",
     "locked": true,
     "schema_version": 3,
     "solution": false,
     "task": false
    }
   },
   "source": [
    "$\\nabla_{\\theta}E(\\hat{\\theta})$ gives the direction of the largest slope at the point $\\hat{\\theta}$.\n",
    "Thus, if we explore iteratively the parameter's space by following the opposite direction of this gradient as described in the following definition, we should converge to the parameter $\\theta^*$ that minimize the MSE i.e. the parameter $\\theta^*$ such that $\\nabla_{\\theta^*}E(\\hat{\\theta^*}) = 0$.\n",
    "\n",
    "Starting from a random point $\\theta$, the gradient descent method proposes a new point \n",
    "$\\theta \\leftarrow \\theta - \\eta \\nabla_{\\theta}E(\\theta)$ at each iteration until a stopping criterion has been reached: e.g. $||\\nabla_{\\theta}E(\\theta)||_2^2 > \\epsilon_{\\delta}$ with $\\epsilon_{\\delta}$ a chosen minimal length for the gradient to continue iterations.\n",
    "\n",
    "The *learning rate* $\\eta \\in \\mathbb{R}_+^*$ is a parameter to tweak for the considered problem.\n",
    "- If $\\eta$ is too large, the optimization may not converge toward 0.\n",
    "- If $\\eta$ is too small, the optimization may require a lot of iterations to converge."
   ]
  },
  {
   "cell_type": "markdown",
   "metadata": {
    "deletable": false,
    "editable": false,
    "nbgrader": {
     "cell_type": "markdown",
     "checksum": "9b0b8d84fd06378679e16baeda68bb37",
     "grade": false,
     "grade_id": "cell-e1e52ff12c64030a",
     "locked": true,
     "schema_version": 3,
     "solution": false,
     "task": false
    }
   },
   "source": [
    "### Exercise 3"
   ]
  },
  {
   "cell_type": "markdown",
   "metadata": {
    "deletable": false,
    "editable": false,
    "nbgrader": {
     "cell_type": "markdown",
     "checksum": "2dd09aba7390ca4243c283a2601b49ca",
     "grade": false,
     "grade_id": "cell-b6cdd776c2d8dfcf",
     "locked": true,
     "schema_version": 3,
     "solution": false,
     "task": false
    }
   },
   "source": [
    "#### Question 1"
   ]
  },
  {
   "cell_type": "markdown",
   "metadata": {
    "deletable": false,
    "editable": false,
    "nbgrader": {
     "cell_type": "markdown",
     "checksum": "fe9acbf7abbd4769347ed44f5e9309c3",
     "grade": false,
     "grade_id": "cell-4db450174a002b3a",
     "locked": true,
     "schema_version": 3,
     "solution": false,
     "task": false
    }
   },
   "source": [
    "Implement a gradient descent method to solve exercise 2 with an approximated solution.\n",
    "Use the analytic formulation of $\\nabla_{\\theta}E(\\theta)$ that has been computed in exercise 1.\n",
    "\n",
    "You can use a very basic stopping criteria: the number of iterations (e.g. 10000).\n",
    "You can start with $\\eta = 0.001$."
   ]
  },
  {
   "cell_type": "markdown",
   "metadata": {
    "deletable": false,
    "nbgrader": {
     "cell_type": "markdown",
     "checksum": "be1566373efd685f3f90e2ee0115f9c0",
     "grade": true,
     "grade_id": "cell-07604ff10943e768",
     "locked": false,
     "points": 2,
     "schema_version": 3,
     "solution": true,
     "task": false
    }
   },
   "source": [
    "YOUR ANSWER HERE"
   ]
  },
  {
   "cell_type": "code",
   "execution_count": null,
   "metadata": {
    "deletable": false,
    "nbgrader": {
     "cell_type": "code",
     "checksum": "0ca0324d38bca5eb31948e31f565783c",
     "grade": false,
     "grade_id": "cell-afe0bcd08689954e",
     "locked": false,
     "schema_version": 3,
     "solution": true,
     "task": false
    }
   },
   "outputs": [],
   "source": [
    "def gradient_descent(gradient, eta=0.001, max_iteration=10000, initial_theta=None):\n",
    "\n",
    "    if initial_theta is None:\n",
    "        # The initial solution is selected randomly\n",
    "        # YOUR CODE HERE\n",
    "        raise NotImplementedError()\n",
    "    else:\n",
    "        # YOUR CODE HERE\n",
    "        raise NotImplementedError()\n",
    "\n",
    "    grad_list = []      # Keep the gradient of all iterations\n",
    "    theta_list = []     # Keep the solution of all iterations\n",
    "\n",
    "    for i in range(max_iteration):\n",
    "        # Perform the gradient descent here\n",
    "        # YOUR CODE HERE\n",
    "        raise NotImplementedError()\n",
    "\n",
    "    return grad_list, theta_list\n",
    "\n",
    "# YOUR CODE HERE\n",
    "raise NotImplementedError()"
   ]
  },
  {
   "cell_type": "markdown",
   "metadata": {
    "deletable": false,
    "editable": false,
    "nbgrader": {
     "cell_type": "markdown",
     "checksum": "e9029b7f56952bdb7049ab3b8d19dc31",
     "grade": false,
     "grade_id": "cell-fa5f032a678d1191",
     "locked": true,
     "schema_version": 3,
     "solution": false,
     "task": false
    }
   },
   "source": [
    "#### Question 2"
   ]
  },
  {
   "cell_type": "markdown",
   "metadata": {
    "deletable": false,
    "editable": false,
    "nbgrader": {
     "cell_type": "markdown",
     "checksum": "e1f7b71ee092dcbc87b7f621f71b8f84",
     "grade": false,
     "grade_id": "cell-9e10cb411219f8f1",
     "locked": true,
     "schema_version": 3,
     "solution": false,
     "task": false
    }
   },
   "source": [
    "Print or plot the value of $\\theta$ and $E(\\theta)$ obtained at each iteration.\n",
    "Check that $E(\\theta)$ converges near to 0 and that $\\theta$ converges near to the solution obtained in exercise 2."
   ]
  },
  {
   "cell_type": "code",
   "execution_count": null,
   "metadata": {
    "deletable": false,
    "nbgrader": {
     "cell_type": "code",
     "checksum": "1d96573d9c48abb5c5cce3834557cb51",
     "grade": false,
     "grade_id": "cell-95c473ba9cbf5611",
     "locked": false,
     "schema_version": 3,
     "solution": true,
     "task": false
    }
   },
   "outputs": [],
   "source": [
    "# YOUR CODE HERE\n",
    "raise NotImplementedError()"
   ]
  },
  {
   "cell_type": "markdown",
   "metadata": {
    "deletable": false,
    "editable": false,
    "nbgrader": {
     "cell_type": "markdown",
     "checksum": "14caca822d14eae0b90a05aa9dd977b8",
     "grade": false,
     "grade_id": "cell-9463cd2580ad5929",
     "locked": true,
     "schema_version": 3,
     "solution": false,
     "task": false
    }
   },
   "source": [
    "#### Question 3"
   ]
  },
  {
   "cell_type": "markdown",
   "metadata": {
    "deletable": false,
    "editable": false,
    "nbgrader": {
     "cell_type": "markdown",
     "checksum": "027e60f270ed02a596b20c6898bb24f7",
     "grade": false,
     "grade_id": "cell-e7cb91b538975eee",
     "locked": true,
     "schema_version": 3,
     "solution": false,
     "task": false
    }
   },
   "source": [
    "Print or plot the norm of the gradient. How do you interpret it ?"
   ]
  },
  {
   "cell_type": "code",
   "execution_count": null,
   "metadata": {
    "deletable": false,
    "nbgrader": {
     "cell_type": "code",
     "checksum": "5b544d6be351dda9e05bbdd0b6308a05",
     "grade": false,
     "grade_id": "cell-6c3628c367ef09e8",
     "locked": false,
     "schema_version": 3,
     "solution": true,
     "task": false
    }
   },
   "outputs": [],
   "source": [
    "# YOUR CODE HERE\n",
    "raise NotImplementedError()"
   ]
  },
  {
   "cell_type": "markdown",
   "metadata": {
    "deletable": false,
    "editable": false,
    "nbgrader": {
     "cell_type": "markdown",
     "checksum": "6c9fde05d0e63c7c120b90fa07e5e50b",
     "grade": false,
     "grade_id": "cell-0c9ff61378716aa0",
     "locked": true,
     "schema_version": 3,
     "solution": false,
     "task": false
    }
   },
   "source": [
    "#### Question 4"
   ]
  },
  {
   "cell_type": "markdown",
   "metadata": {
    "deletable": false,
    "editable": false,
    "nbgrader": {
     "cell_type": "markdown",
     "checksum": "83f0d5af0e0eb98818a2551d849b9e28",
     "grade": false,
     "grade_id": "cell-3d83db1d4a842a37",
     "locked": true,
     "schema_version": 3,
     "solution": false,
     "task": false
    }
   },
   "source": [
    "Restart the optimization using a different *learning rate* $\\eta$. What do you observe ?"
   ]
  },
  {
   "cell_type": "markdown",
   "metadata": {
    "deletable": false,
    "nbgrader": {
     "cell_type": "markdown",
     "checksum": "6d69ff1b864a86b48011559cdfd3dfd9",
     "grade": true,
     "grade_id": "cell-b2d33e0b58aa0a50",
     "locked": false,
     "points": 0,
     "schema_version": 3,
     "solution": true,
     "task": false
    }
   },
   "source": [
    "YOUR ANSWER HERE"
   ]
  },
  {
   "cell_type": "code",
   "execution_count": null,
   "metadata": {
    "deletable": false,
    "nbgrader": {
     "cell_type": "code",
     "checksum": "3a3fe7513b7d802a2c1041033ec60764",
     "grade": true,
     "grade_id": "cell-bbf38ec3627452f2",
     "locked": false,
     "points": 2,
     "schema_version": 3,
     "solution": true,
     "task": false
    }
   },
   "outputs": [],
   "source": [
    "# YOUR CODE HERE\n",
    "raise NotImplementedError()"
   ]
  },
  {
   "cell_type": "markdown",
   "metadata": {
    "deletable": false,
    "nbgrader": {
     "cell_type": "markdown",
     "checksum": "11d22a47c001cf1503286332a9f2bb36",
     "grade": true,
     "grade_id": "cell-f1342ed3d5337e67",
     "locked": false,
     "points": 0,
     "schema_version": 3,
     "solution": true,
     "task": false
    }
   },
   "source": [
    "YOUR ANSWER HERE"
   ]
  },
  {
   "cell_type": "code",
   "execution_count": null,
   "metadata": {
    "deletable": false,
    "nbgrader": {
     "cell_type": "code",
     "checksum": "eb704cde41cc4d36dfb7babe44895c44",
     "grade": true,
     "grade_id": "cell-eadab985040ed263",
     "locked": false,
     "points": 0,
     "schema_version": 3,
     "solution": true,
     "task": false
    }
   },
   "outputs": [],
   "source": [
    "# YOUR CODE HERE\n",
    "raise NotImplementedError()"
   ]
  },
  {
   "cell_type": "markdown",
   "metadata": {
    "deletable": false,
    "nbgrader": {
     "cell_type": "markdown",
     "checksum": "4655427807a7168080483689671039ae",
     "grade": true,
     "grade_id": "cell-24168347033f89a0",
     "locked": false,
     "points": 0,
     "schema_version": 3,
     "solution": true,
     "task": false
    }
   },
   "source": [
    "YOUR ANSWER HERE"
   ]
  },
  {
   "cell_type": "code",
   "execution_count": null,
   "metadata": {
    "deletable": false,
    "nbgrader": {
     "cell_type": "code",
     "checksum": "f37cf4fb5c9a6702a24213919cb6ec5c",
     "grade": true,
     "grade_id": "cell-faf0ec962b41b1a8",
     "locked": false,
     "points": 0,
     "schema_version": 3,
     "solution": true,
     "task": false
    }
   },
   "outputs": [],
   "source": [
    "# YOUR CODE HERE\n",
    "raise NotImplementedError()"
   ]
  },
  {
   "cell_type": "markdown",
   "metadata": {
    "deletable": false,
    "editable": false,
    "nbgrader": {
     "cell_type": "markdown",
     "checksum": "a1a396a08bb793c451f8fd06ef8ef73f",
     "grade": false,
     "grade_id": "cell-a7594039d1965484",
     "locked": true,
     "schema_version": 3,
     "solution": false,
     "task": false
    }
   },
   "source": [
    "## Linear regression with Scikit Learn"
   ]
  },
  {
   "cell_type": "markdown",
   "metadata": {
    "deletable": false,
    "editable": false,
    "nbgrader": {
     "cell_type": "markdown",
     "checksum": "3acee9ab14cb933a8b92c68b96894d2b",
     "grade": false,
     "grade_id": "cell-80cf226d39c1feeb",
     "locked": true,
     "schema_version": 3,
     "solution": false,
     "task": false
    }
   },
   "source": [
    "Let's play with the Scikit Learn implementation of linear regression.\n",
    "The official documentation is there: https://scikit-learn.org/stable/modules/linear_model.html"
   ]
  },
  {
   "cell_type": "markdown",
   "metadata": {
    "deletable": false,
    "editable": false,
    "nbgrader": {
     "cell_type": "markdown",
     "checksum": "65892b9660715da48adcdf7f23f5d2c5",
     "grade": false,
     "grade_id": "cell-b160f4cf12cf6b6b",
     "locked": true,
     "schema_version": 3,
     "solution": false,
     "task": false
    }
   },
   "source": [
    "Use the `gen_1d_linear_regression_samples()` function (defined above) to generate a dataset and `plot_1d_regression_samples()` to plot it."
   ]
  },
  {
   "cell_type": "code",
   "execution_count": null,
   "metadata": {
    "deletable": false,
    "editable": false,
    "nbgrader": {
     "cell_type": "code",
     "checksum": "27b78153f5a5c2f091396b76b23d1f7a",
     "grade": false,
     "grade_id": "cell-0bda972706db0f96",
     "locked": true,
     "schema_version": 3,
     "solution": false,
     "task": false
    }
   },
   "outputs": [],
   "source": [
    "df = gen_1d_linear_regression_samples()\n",
    "\n",
    "plot_1d_regression_samples(df)"
   ]
  },
  {
   "cell_type": "markdown",
   "metadata": {
    "deletable": false,
    "editable": false,
    "nbgrader": {
     "cell_type": "markdown",
     "checksum": "43818da8ae6818cf5bc9c139a5eb4e5e",
     "grade": false,
     "grade_id": "cell-932ebeb64bb5a2b7",
     "locked": true,
     "schema_version": 3,
     "solution": false,
     "task": false
    }
   },
   "source": [
    "Once the dataset is ready, let's make the regressor and train it with the following code:"
   ]
  },
  {
   "cell_type": "code",
   "execution_count": null,
   "metadata": {
    "deletable": false,
    "editable": false,
    "nbgrader": {
     "cell_type": "code",
     "checksum": "c88dc180b8e8712f41f38fa5614a772e",
     "grade": false,
     "grade_id": "cell-f09fbaa43b826133",
     "locked": true,
     "schema_version": 3,
     "solution": false,
     "task": false
    }
   },
   "outputs": [],
   "source": [
    "model = sklearn.linear_model.LinearRegression()\n",
    "\n",
    "model.fit(df[['x']], df[['y']])"
   ]
  },
  {
   "cell_type": "markdown",
   "metadata": {
    "deletable": false,
    "editable": false,
    "nbgrader": {
     "cell_type": "markdown",
     "checksum": "3c894ac1abd8daf1075d9da7d865c5d7",
     "grade": false,
     "grade_id": "cell-39264ad22cf7a195",
     "locked": true,
     "schema_version": 3,
     "solution": false,
     "task": false
    }
   },
   "source": [
    "The following cell plots the learned model (the red dashed line) and the dataset $\\mathcal{D}$ (blue points)."
   ]
  },
  {
   "cell_type": "code",
   "execution_count": null,
   "metadata": {
    "deletable": false,
    "editable": false,
    "nbgrader": {
     "cell_type": "code",
     "checksum": "e3632f307c5510baba2c364e3024bcba",
     "grade": false,
     "grade_id": "cell-edc6674474d43365",
     "locked": true,
     "schema_version": 3,
     "solution": false,
     "task": false
    }
   },
   "outputs": [],
   "source": [
    "plot_1d_regression_samples(df, model=model)"
   ]
  },
  {
   "cell_type": "markdown",
   "metadata": {
    "deletable": false,
    "editable": false,
    "nbgrader": {
     "cell_type": "markdown",
     "checksum": "477ee209454a9d608db067ab6f91a9aa",
     "grade": false,
     "grade_id": "cell-b7fbd3a64e51ee80",
     "locked": true,
     "schema_version": 3,
     "solution": false,
     "task": false
    }
   },
   "source": [
    "### Exercise 4"
   ]
  },
  {
   "cell_type": "markdown",
   "metadata": {
    "deletable": false,
    "editable": false,
    "nbgrader": {
     "cell_type": "markdown",
     "checksum": "54d622ae9f519485318c1ee2e1823edd",
     "grade": false,
     "grade_id": "cell-1770c0dbfa328904",
     "locked": true,
     "schema_version": 3,
     "solution": false,
     "task": false
    }
   },
   "source": [
    "#### Question 1"
   ]
  },
  {
   "cell_type": "markdown",
   "metadata": {
    "deletable": false,
    "editable": false,
    "nbgrader": {
     "cell_type": "markdown",
     "checksum": "a3bacf75c07f73dfd9cbf4ce538f40e3",
     "grade": false,
     "grade_id": "cell-0c8e89bc5e840013",
     "locked": true,
     "schema_version": 3,
     "solution": false,
     "task": false
    }
   },
   "source": [
    "What are the optimal parameters $\\theta_1$ (intercept) and $\\theta_2$ obtained ?\n",
    "(use `model.coef_` and `model.intercept_` attributes)"
   ]
  },
  {
   "cell_type": "code",
   "execution_count": null,
   "metadata": {
    "deletable": false,
    "nbgrader": {
     "cell_type": "code",
     "checksum": "c979d7b9754e761dcba6fab41c3063c5",
     "grade": false,
     "grade_id": "cell-e2aa27ffe5b33569",
     "locked": false,
     "schema_version": 3,
     "solution": true,
     "task": false
    }
   },
   "outputs": [],
   "source": [
    "# YOUR CODE HERE\n",
    "raise NotImplementedError()"
   ]
  },
  {
   "cell_type": "markdown",
   "metadata": {
    "deletable": false,
    "editable": false,
    "nbgrader": {
     "cell_type": "markdown",
     "checksum": "8376a041786b81cfe60ddfd904f4cc22",
     "grade": false,
     "grade_id": "cell-7f425446c98adcae",
     "locked": true,
     "schema_version": 3,
     "solution": false,
     "task": false
    }
   },
   "source": [
    "#### Question 2"
   ]
  },
  {
   "cell_type": "markdown",
   "metadata": {
    "deletable": false,
    "editable": false,
    "nbgrader": {
     "cell_type": "markdown",
     "checksum": "4761082d42b57a46e1ec238ce3dbc2aa",
     "grade": false,
     "grade_id": "cell-3af6a3541617d567",
     "locked": true,
     "schema_version": 3,
     "solution": false,
     "task": false
    }
   },
   "source": [
    "Write the mathematical definition of your model."
   ]
  },
  {
   "cell_type": "markdown",
   "metadata": {
    "deletable": false,
    "nbgrader": {
     "cell_type": "markdown",
     "checksum": "8b21e47ad08d97befa5b3156c7316a2e",
     "grade": true,
     "grade_id": "cell-2bd7bc7d944edb1b",
     "locked": false,
     "points": 1,
     "schema_version": 3,
     "solution": true,
     "task": false
    }
   },
   "source": [
    "YOUR ANSWER HERE"
   ]
  },
  {
   "cell_type": "code",
   "execution_count": null,
   "metadata": {
    "deletable": false,
    "nbgrader": {
     "cell_type": "code",
     "checksum": "10bb7d310b092481d957042faa2bffe8",
     "grade": true,
     "grade_id": "cell-5eb0efb6698f74f5",
     "locked": false,
     "points": 1,
     "schema_version": 3,
     "solution": true,
     "task": false
    }
   },
   "outputs": [],
   "source": [
    "# YOUR CODE HERE\n",
    "raise NotImplementedError()"
   ]
  },
  {
   "cell_type": "markdown",
   "metadata": {
    "deletable": false,
    "editable": false,
    "nbgrader": {
     "cell_type": "markdown",
     "checksum": "0b92952d375f5bc4d985d63640757803",
     "grade": false,
     "grade_id": "cell-a7c01692a2600a0c",
     "locked": true,
     "schema_version": 3,
     "solution": false,
     "task": false
    }
   },
   "source": [
    "#### Question 3"
   ]
  },
  {
   "cell_type": "markdown",
   "metadata": {
    "deletable": false,
    "editable": false,
    "nbgrader": {
     "cell_type": "markdown",
     "checksum": "051f36eb9c8e43e1fdbf914060d0e81f",
     "grade": false,
     "grade_id": "cell-61e1f78258673ea2",
     "locked": true,
     "schema_version": 3,
     "solution": false,
     "task": false
    }
   },
   "source": [
    "Use the `model.predict()` function to guess the class of the following points:\n",
    "\n",
    "$$x_{p1} = -2, \\quad x_{p2} = 2, \\quad x_{p3} = 6$$"
   ]
  },
  {
   "cell_type": "code",
   "execution_count": null,
   "metadata": {
    "deletable": false,
    "nbgrader": {
     "cell_type": "code",
     "checksum": "d479f07c8f2da8249210e96071061586",
     "grade": true,
     "grade_id": "cell-3b0196a9e393373d",
     "locked": false,
     "points": 0,
     "schema_version": 3,
     "solution": true,
     "task": false
    }
   },
   "outputs": [],
   "source": [
    "# YOUR CODE HERE\n",
    "raise NotImplementedError()"
   ]
  },
  {
   "cell_type": "markdown",
   "metadata": {
    "deletable": false,
    "editable": false,
    "nbgrader": {
     "cell_type": "markdown",
     "checksum": "e315b43b89e7b504d7eb8ffe7f64b03c",
     "grade": false,
     "grade_id": "cell-ea69acf8a4eeafae",
     "locked": true,
     "schema_version": 3,
     "solution": false,
     "task": false
    }
   },
   "source": [
    "## Polynomial regression"
   ]
  },
  {
   "cell_type": "markdown",
   "metadata": {
    "deletable": false,
    "editable": false,
    "nbgrader": {
     "cell_type": "markdown",
     "checksum": "0e0e0a60cdede64420b391c7abcae429",
     "grade": false,
     "grade_id": "cell-9af4759b11aae65e",
     "locked": true,
     "schema_version": 3,
     "solution": false,
     "task": false
    }
   },
   "source": [
    "It is a common practice to use linear models trained on nonlinear functions of the data in machine learning. This approach maintains the generally fast performance of linear methods, while allowing them to fit a much wider range of data.\n",
    "\n",
    "For instance, a linear model can be extended by making polynomial features from the coefficients. Linear model in exercises 1 and 2 looks like this (one-dimensional data):\n",
    "\n",
    "$$f_{\\theta}(x) = \\theta_0 + \\theta_1 x$$\n",
    "\n",
    "If we want to fit a quadratic curve to the data instead of a line, we can combine the features in second-order polynomials, so that the model looks like this:\n",
    "\n",
    "$$f_{\\theta}(x) = \\theta_0 + \\theta_1 x + \\theta_2 x^2$$\n",
    "\n",
    "This is still a linear model: to illustrate this, imagine creating a new variable\n",
    "\n",
    "$$z = [x, x^2]$$\n",
    "\n",
    "With this re-labeling of the data, our problem can be written\n",
    "\n",
    "$$f_{\\theta}(x) = \\theta_0 + \\theta_1 z_1 + \\theta_2 z_2$$\n",
    "\n",
    "The resulting polynomial regression is in the same class of linear models we'd considered above (i.e. the model is linear in $\\theta$) and can be solved by the same techniques. Thus the linear model has the flexibility to fit a much broader range of data."
   ]
  },
  {
   "cell_type": "markdown",
   "metadata": {
    "deletable": false,
    "editable": false,
    "nbgrader": {
     "cell_type": "markdown",
     "checksum": "99e1d0a1f7658bf7acae763e31380328",
     "grade": false,
     "grade_id": "cell-da455a84c874bc2c",
     "locked": true,
     "schema_version": 3,
     "solution": false,
     "task": false
    }
   },
   "source": [
    "### Exercise 5"
   ]
  },
  {
   "cell_type": "markdown",
   "metadata": {
    "deletable": false,
    "editable": false,
    "nbgrader": {
     "cell_type": "markdown",
     "checksum": "cf84ed078b65a089bbaa54517ba3d90d",
     "grade": false,
     "grade_id": "cell-c5abc9da3393b15e",
     "locked": true,
     "schema_version": 3,
     "solution": false,
     "task": false
    }
   },
   "source": [
    "#### Question 1"
   ]
  },
  {
   "cell_type": "markdown",
   "metadata": {
    "deletable": false,
    "editable": false,
    "nbgrader": {
     "cell_type": "markdown",
     "checksum": "fc81c7b23dada58a6daa4427e0fd3335",
     "grade": false,
     "grade_id": "cell-b2b7efb8efee00d1",
     "locked": true,
     "schema_version": 3,
     "solution": false,
     "task": false
    }
   },
   "source": [
    "Use the previous equations to compute **by hand** (i.e. on a sheet of paper) the optimal parameters $\\theta_1$ and $\\theta_2$ of the model $y = \\theta_1 x + \\theta_1 x^2$ to best fit the following dataset (of four examples):\n",
    "\n",
    "$$\\mathcal{D} = \\left\\{\n",
    "\\begin{pmatrix} 1 \\\\ 1.8 \\end{pmatrix},\n",
    "\\begin{pmatrix} 2 \\\\ 2.7 \\end{pmatrix},\n",
    "\\begin{pmatrix} 3 \\\\ 3.4 \\end{pmatrix},\n",
    "\\begin{pmatrix} 4 \\\\ 3.8 \\end{pmatrix},\n",
    "\\begin{pmatrix} 5 \\\\ 3.9 \\end{pmatrix}\n",
    "\\right\\}$$"
   ]
  },
  {
   "cell_type": "markdown",
   "metadata": {
    "deletable": false,
    "nbgrader": {
     "cell_type": "markdown",
     "checksum": "415b2cb2b6c0fff5e3ba60b803772b19",
     "grade": true,
     "grade_id": "cell-9a82b72415381982",
     "locked": false,
     "points": 2,
     "schema_version": 3,
     "solution": true,
     "task": false
    }
   },
   "source": [
    "YOUR ANSWER HERE"
   ]
  },
  {
   "cell_type": "code",
   "execution_count": null,
   "metadata": {
    "deletable": false,
    "nbgrader": {
     "cell_type": "code",
     "checksum": "2b79121946de84536f0dadc9f4d6080c",
     "grade": false,
     "grade_id": "cell-2c1a044c8c32910c",
     "locked": false,
     "schema_version": 3,
     "solution": true,
     "task": false
    }
   },
   "outputs": [],
   "source": [
    "# YOUR CODE HERE\n",
    "raise NotImplementedError()"
   ]
  },
  {
   "cell_type": "code",
   "execution_count": null,
   "metadata": {
    "deletable": false,
    "editable": false,
    "nbgrader": {
     "cell_type": "code",
     "checksum": "9adba7f5c403a3f5a363d9cd5f7e3d13",
     "grade": false,
     "grade_id": "cell-88fcd160737086f6",
     "locked": true,
     "schema_version": 3,
     "solution": false,
     "task": false
    }
   },
   "outputs": [],
   "source": [
    "X = [1, 2, 3, 4, 5]\n",
    "y = [1.8, 2.7, 3.4, 3.8, 3.9]\n",
    "\n",
    "plot_ex4(X, y)"
   ]
  },
  {
   "cell_type": "markdown",
   "metadata": {
    "deletable": false,
    "editable": false,
    "nbgrader": {
     "cell_type": "markdown",
     "checksum": "7d32efa1d94823864b71d82677a14eaa",
     "grade": false,
     "grade_id": "cell-5dc7678377669961",
     "locked": true,
     "schema_version": 3,
     "solution": false,
     "task": false
    }
   },
   "source": [
    "#### Question 2"
   ]
  },
  {
   "cell_type": "markdown",
   "metadata": {
    "deletable": false,
    "editable": false,
    "nbgrader": {
     "cell_type": "markdown",
     "checksum": "f82b7313ca7c9153733f543e047d24b0",
     "grade": false,
     "grade_id": "cell-c8925b27745ffbe3",
     "locked": true,
     "schema_version": 3,
     "solution": false,
     "task": false
    }
   },
   "source": [
    "Check graphically that the model you obtained fits well with the data using the following cell (complete the first two lines)."
   ]
  },
  {
   "cell_type": "code",
   "execution_count": null,
   "metadata": {
    "deletable": false,
    "nbgrader": {
     "cell_type": "code",
     "checksum": "ccc407e4c8415d764fc9d0e46a573d3e",
     "grade": false,
     "grade_id": "cell-743068a487e386fc",
     "locked": false,
     "schema_version": 3,
     "solution": true,
     "task": false
    }
   },
   "outputs": [],
   "source": [
    "X = [1, 2, 3, 4, 5]\n",
    "y = [1.8, 2.7, 3.4, 3.8, 3.9]\n",
    "\n",
    "#theta_1 =                          # <- TO UNCOMMENT AND TO COMPLETE\n",
    "#theta_2 =                          # <- TO UNCOMMENT AND TO COMPLETE\n",
    "# YOUR CODE HERE\n",
    "raise NotImplementedError()\n",
    "\n",
    "plot_ex4(X, y, theta_1, theta_2)"
   ]
  },
  {
   "cell_type": "markdown",
   "metadata": {
    "deletable": false,
    "editable": false,
    "nbgrader": {
     "cell_type": "markdown",
     "checksum": "1dd05aa7b30f9ae6a5b8579b0f7e36fa",
     "grade": false,
     "grade_id": "cell-0fe2836d24ce791b",
     "locked": true,
     "schema_version": 3,
     "solution": false,
     "task": false
    }
   },
   "source": [
    "## Polynomial regression with Scikit Learn"
   ]
  },
  {
   "cell_type": "markdown",
   "metadata": {
    "deletable": false,
    "editable": false,
    "nbgrader": {
     "cell_type": "markdown",
     "checksum": "406336b103c4a1c0f4acb7e550d1e3d8",
     "grade": false,
     "grade_id": "cell-273e499ff0c0af37",
     "locked": true,
     "schema_version": 3,
     "solution": false,
     "task": false
    }
   },
   "source": [
    "Let's play with the Scikit Learn implementation of polynomial regression.\n",
    "The official documentation is there: https://scikit-learn.org/stable/modules/linear_model.html#polynomial-regression-extending-linear-models-with-basis-functions"
   ]
  },
  {
   "cell_type": "markdown",
   "metadata": {
    "deletable": false,
    "editable": false,
    "nbgrader": {
     "cell_type": "markdown",
     "checksum": "21aecf67ce3fdb87346edf3993ae10fb",
     "grade": false,
     "grade_id": "cell-b18c3e59c8b19397",
     "locked": true,
     "schema_version": 3,
     "solution": false,
     "task": false
    }
   },
   "source": [
    "First we make the dataset, plot it, make the regressor and train it with the following code:"
   ]
  },
  {
   "cell_type": "code",
   "execution_count": null,
   "metadata": {},
   "outputs": [],
   "source": [
    "df = gen_1d_polynomial_regression_samples(n_samples=20)\n",
    "\n",
    "plot_1d_regression_samples(df)\n",
    "\n",
    "polynomial_features = sklearn.preprocessing.PolynomialFeatures(degree=3)  # In Q. 4, try with degree = 1, 4 and 15\n",
    "linear_regression = sklearn.linear_model.LinearRegression(fit_intercept=False)\n",
    "\n",
    "model = sklearn.pipeline.Pipeline([(\"polynomial_features\", polynomial_features),\n",
    "                                   (\"linear_regression\", linear_regression)])\n",
    "\n",
    "model.fit(df[['x']], df[['y']])"
   ]
  },
  {
   "cell_type": "markdown",
   "metadata": {
    "deletable": false,
    "editable": false,
    "nbgrader": {
     "cell_type": "markdown",
     "checksum": "6582bf6bc6fc1e87da047171aa2ca668",
     "grade": false,
     "grade_id": "cell-60b5a0fd85c1b670",
     "locked": true,
     "schema_version": 3,
     "solution": false,
     "task": false
    }
   },
   "source": [
    "In `sklearn.preprocessing.PolynomialFeatures()`, `degree` is the degree of the polynomal function."
   ]
  },
  {
   "cell_type": "markdown",
   "metadata": {
    "deletable": false,
    "editable": false,
    "nbgrader": {
     "cell_type": "markdown",
     "checksum": "37b3f8075594e8a10ab7826c6f20d78b",
     "grade": false,
     "grade_id": "cell-1ec55b18f7da9027",
     "locked": true,
     "schema_version": 3,
     "solution": false,
     "task": false
    }
   },
   "source": [
    "The following cell plots the learned model (the red dashed line) and the dataset $\\mathcal{D}$ (blue points)."
   ]
  },
  {
   "cell_type": "code",
   "execution_count": null,
   "metadata": {
    "deletable": false,
    "editable": false,
    "nbgrader": {
     "cell_type": "code",
     "checksum": "5acdd9b522fc0d044c67920efd15d2be",
     "grade": false,
     "grade_id": "cell-a82fa33137de7f52",
     "locked": true,
     "schema_version": 3,
     "solution": false,
     "task": false
    }
   },
   "outputs": [],
   "source": [
    "plot_1d_regression_samples(df, model=model)"
   ]
  },
  {
   "cell_type": "markdown",
   "metadata": {
    "deletable": false,
    "editable": false,
    "nbgrader": {
     "cell_type": "markdown",
     "checksum": "f999d230165ef0cbb5e8e03fb13bf15e",
     "grade": false,
     "grade_id": "cell-ca25c567cdcf63dc",
     "locked": true,
     "schema_version": 3,
     "solution": false,
     "task": false
    }
   },
   "source": [
    "### Exercise 6"
   ]
  },
  {
   "cell_type": "markdown",
   "metadata": {
    "deletable": false,
    "editable": false,
    "nbgrader": {
     "cell_type": "markdown",
     "checksum": "08b399531a3b962d669e4dba0dec2e62",
     "grade": false,
     "grade_id": "cell-df3505a40854ace0",
     "locked": true,
     "schema_version": 3,
     "solution": false,
     "task": false
    }
   },
   "source": [
    "#### Question 1"
   ]
  },
  {
   "cell_type": "markdown",
   "metadata": {
    "deletable": false,
    "editable": false,
    "nbgrader": {
     "cell_type": "markdown",
     "checksum": "6f721ba8f44277ce1ee265888618263a",
     "grade": false,
     "grade_id": "cell-41f631b52fc8952d",
     "locked": true,
     "schema_version": 3,
     "solution": false,
     "task": false
    }
   },
   "source": [
    "What are the optimal parameters $\\theta_0, \\theta_1, \\theta_2, \\theta_3$ obtained ?\n",
    "(use the `linear_regression.coef_[0][0]` attribute for the intercept and `linear_regression.coef_[0][1:]` for the others coefficients)"
   ]
  },
  {
   "cell_type": "code",
   "execution_count": null,
   "metadata": {
    "deletable": false,
    "nbgrader": {
     "cell_type": "code",
     "checksum": "18dd325bd819f9aeecddf44d32402eaa",
     "grade": false,
     "grade_id": "cell-b91f19a4815fe3af",
     "locked": false,
     "schema_version": 3,
     "solution": true,
     "task": false
    }
   },
   "outputs": [],
   "source": [
    "# YOUR CODE HERE\n",
    "raise NotImplementedError()"
   ]
  },
  {
   "cell_type": "markdown",
   "metadata": {
    "deletable": false,
    "editable": false,
    "nbgrader": {
     "cell_type": "markdown",
     "checksum": "ae94fcdfdf7e3caa9f0f00eae0ee777f",
     "grade": false,
     "grade_id": "cell-abaee08269799d13",
     "locked": true,
     "schema_version": 3,
     "solution": false,
     "task": false
    }
   },
   "source": [
    "#### Question 2"
   ]
  },
  {
   "cell_type": "markdown",
   "metadata": {
    "deletable": false,
    "editable": false,
    "nbgrader": {
     "cell_type": "markdown",
     "checksum": "f972e673c034aac1ee33c5f337706f74",
     "grade": false,
     "grade_id": "cell-0fa045dedd3f7af1",
     "locked": true,
     "schema_version": 3,
     "solution": false,
     "task": false
    }
   },
   "source": [
    "Write the mathematical definition of your model."
   ]
  },
  {
   "cell_type": "markdown",
   "metadata": {
    "deletable": false,
    "nbgrader": {
     "cell_type": "markdown",
     "checksum": "7c20d1bad9e3a9d09eac3202bf0d7c1b",
     "grade": true,
     "grade_id": "cell-c98b8e5c3afe817b",
     "locked": false,
     "points": 1,
     "schema_version": 3,
     "solution": true,
     "task": false
    }
   },
   "source": [
    "YOUR ANSWER HERE"
   ]
  },
  {
   "cell_type": "code",
   "execution_count": null,
   "metadata": {
    "deletable": false,
    "nbgrader": {
     "cell_type": "code",
     "checksum": "11af202dea5365d963afddbeacd7a2f6",
     "grade": false,
     "grade_id": "cell-9b7da27fe4c56be2",
     "locked": false,
     "schema_version": 3,
     "solution": true,
     "task": false
    }
   },
   "outputs": [],
   "source": [
    "# YOUR CODE HERE\n",
    "raise NotImplementedError()"
   ]
  },
  {
   "cell_type": "markdown",
   "metadata": {
    "deletable": false,
    "editable": false,
    "nbgrader": {
     "cell_type": "markdown",
     "checksum": "cc8c29d9d09880d516b0bb130a355cf9",
     "grade": false,
     "grade_id": "cell-34a1d1428212f1d8",
     "locked": true,
     "schema_version": 3,
     "solution": false,
     "task": false
    }
   },
   "source": [
    "#### Question 3"
   ]
  },
  {
   "cell_type": "markdown",
   "metadata": {
    "deletable": false,
    "editable": false,
    "nbgrader": {
     "cell_type": "markdown",
     "checksum": "c9a7e7ab8c647a5ea2d15a079d8f41c3",
     "grade": false,
     "grade_id": "cell-92778884a8237af7",
     "locked": true,
     "schema_version": 3,
     "solution": false,
     "task": false
    }
   },
   "source": [
    "Use the `model.predict()` function to guess the class of the following points:\n",
    "\n",
    "$$x_{p1} = 1, \\quad x_{p2} = 2, \\quad x_{p3} = 6$$"
   ]
  },
  {
   "cell_type": "code",
   "execution_count": null,
   "metadata": {
    "deletable": false,
    "nbgrader": {
     "cell_type": "code",
     "checksum": "8994f5b7f3effddf6fa8123681752c11",
     "grade": false,
     "grade_id": "cell-5316fdd4671338b9",
     "locked": false,
     "schema_version": 3,
     "solution": true,
     "task": false
    }
   },
   "outputs": [],
   "source": [
    "# YOUR CODE HERE\n",
    "raise NotImplementedError()"
   ]
  },
  {
   "cell_type": "markdown",
   "metadata": {
    "deletable": false,
    "editable": false,
    "nbgrader": {
     "cell_type": "markdown",
     "checksum": "e3d719f7ee4cc318048bfadc85c1a938",
     "grade": false,
     "grade_id": "cell-6dfe74e982d3c4a2",
     "locked": true,
     "schema_version": 3,
     "solution": false,
     "task": false
    }
   },
   "source": [
    "#### Question 4"
   ]
  },
  {
   "cell_type": "markdown",
   "metadata": {
    "deletable": false,
    "editable": false,
    "nbgrader": {
     "cell_type": "markdown",
     "checksum": "efb7c255d651bde09e286ca4e84072a2",
     "grade": false,
     "grade_id": "cell-177f5049053e9bdb",
     "locked": true,
     "schema_version": 3,
     "solution": false,
     "task": false
    }
   },
   "source": [
    "In `sklearn.preprocessing.PolynomialFeatures()`, change the value of `degree` and describe what happen on the plot (use e.g. 1 and 15).\n",
    "What is the name of the observed phenomenons ?"
   ]
  },
  {
   "cell_type": "markdown",
   "metadata": {
    "deletable": false,
    "nbgrader": {
     "cell_type": "markdown",
     "checksum": "981054a726c3db34dc958d9f5f682302",
     "grade": true,
     "grade_id": "cell-4159c28a527f8e14",
     "locked": false,
     "points": 0,
     "schema_version": 3,
     "solution": true,
     "task": false
    }
   },
   "source": [
    "YOUR ANSWER HERE"
   ]
  },
  {
   "cell_type": "code",
   "execution_count": null,
   "metadata": {
    "deletable": false,
    "nbgrader": {
     "cell_type": "code",
     "checksum": "2bec7a2c011cd62f9588f534c5d15ba7",
     "grade": true,
     "grade_id": "cell-803b95bd0c968001",
     "locked": false,
     "points": 1,
     "schema_version": 3,
     "solution": true,
     "task": false
    }
   },
   "outputs": [],
   "source": [
    "# YOUR CODE HERE\n",
    "raise NotImplementedError()"
   ]
  },
  {
   "cell_type": "markdown",
   "metadata": {
    "deletable": false,
    "nbgrader": {
     "cell_type": "markdown",
     "checksum": "a3aaf892a5919f8dbf4ba6b13d4c51e3",
     "grade": true,
     "grade_id": "cell-e840b6c03f7592a6",
     "locked": false,
     "points": 0,
     "schema_version": 3,
     "solution": true,
     "task": false
    }
   },
   "source": [
    "YOUR ANSWER HERE"
   ]
  },
  {
   "cell_type": "code",
   "execution_count": null,
   "metadata": {
    "deletable": false,
    "nbgrader": {
     "cell_type": "code",
     "checksum": "618ef5f47fdca4302bc2f259419e833a",
     "grade": true,
     "grade_id": "cell-32f3059837b84e50",
     "locked": false,
     "points": 1,
     "schema_version": 3,
     "solution": true,
     "task": false
    }
   },
   "outputs": [],
   "source": [
    "# YOUR CODE HERE\n",
    "raise NotImplementedError()"
   ]
  },
  {
   "cell_type": "markdown",
   "metadata": {
    "deletable": false,
    "editable": false,
    "nbgrader": {
     "cell_type": "markdown",
     "checksum": "e3186d70e3d0db76bfca5cb82c39741b",
     "grade": false,
     "grade_id": "cell-4291e83e9d6f58ee",
     "locked": true,
     "schema_version": 3,
     "solution": false,
     "task": false
    }
   },
   "source": [
    "## CO2 Emission Forecast (bonus)"
   ]
  },
  {
   "cell_type": "markdown",
   "metadata": {
    "deletable": false,
    "editable": false,
    "nbgrader": {
     "cell_type": "markdown",
     "checksum": "7e3422fe3ddc5916ce12105f4180b185",
     "grade": false,
     "grade_id": "cell-e2a7a58758db5540",
     "locked": true,
     "schema_version": 3,
     "solution": false,
     "task": false
    }
   },
   "source": [
    "In this exercise, you will forecast 5 years of future CO2 emission from power generation using natural gas.\n",
    "\n",
    "This exercise use a dataset taken from https://www.kaggle.com/berhag/co2-emission-forecast-with-python-seasonal-arima.\n",
    "\n",
    "This public dataset contain monthly carbon dioxide emissions from electricity generation. The dataset includes CO2 emissions starting January 1973 to July 2016."
   ]
  },
  {
   "cell_type": "code",
   "execution_count": null,
   "metadata": {
    "deletable": false,
    "editable": false,
    "nbgrader": {
     "cell_type": "code",
     "checksum": "971d0ae50a961e64c56b1127aa0656c0",
     "grade": false,
     "grade_id": "cell-f4ec940d7fe3fb22",
     "locked": true,
     "schema_version": 3,
     "solution": false,
     "task": false
    }
   },
   "outputs": [],
   "source": [
    "URL = \"https://raw.githubusercontent.com/adimajo/polytechnique-cse204-2019-releases/master/data/natural_gas_co2_emissions_for_electric_power_sector.csv\"\n",
    "\n",
    "df = pd.read_csv(URL,\n",
    "                 parse_dates=[0]) #, index_col=0) #, squeeze=True)\n",
    "df.head()"
   ]
  },
  {
   "cell_type": "code",
   "execution_count": null,
   "metadata": {
    "deletable": false,
    "editable": false,
    "nbgrader": {
     "cell_type": "code",
     "checksum": "c4d406296869f74c7afb2614c36bd8b3",
     "grade": false,
     "grade_id": "cell-e569fa4bb7e02b65",
     "locked": true,
     "schema_version": 3,
     "solution": false,
     "task": false
    }
   },
   "outputs": [],
   "source": [
    "df.plot(x='date', y='co2_emissions', figsize=(15,10), title='Natural Gas Electric Power Sector CO2 Emissions');"
   ]
  },
  {
   "cell_type": "markdown",
   "metadata": {
    "deletable": false,
    "editable": false,
    "nbgrader": {
     "cell_type": "markdown",
     "checksum": "e4ce4345d31b108c4f0eb26fc5975a66",
     "grade": false,
     "grade_id": "cell-2524cba1576919b5",
     "locked": true,
     "schema_version": 3,
     "solution": false,
     "task": false
    }
   },
   "source": [
    "### Exercise 7 (bonus)"
   ]
  },
  {
   "cell_type": "markdown",
   "metadata": {
    "deletable": false,
    "editable": false,
    "nbgrader": {
     "cell_type": "markdown",
     "checksum": "a827ed3ca8b74c9642fdf4dd11f138b5",
     "grade": false,
     "grade_id": "cell-0f3199ca4199ef09",
     "locked": true,
     "schema_version": 3,
     "solution": false,
     "task": false
    }
   },
   "source": [
    "Implement a model to make predictions on this dataset.\n",
    "Use polynomial basis functions plus two sinusoids to handle the seasonality of this time series: $\\sin(\\frac{2 \\pi}{12} x)$ and $\\cos\\left(\\frac{2 \\pi}{12} x \\right)$. This signal contains a periodic component of 12 time steps (with one time step equals to one month).\n",
    "\n",
    "We use both $\\sin$ and $\\cos$ to avoid unaligned phases with the time series. Eventually we could use only $\\sin\\left(\\frac{2 \\pi}{12} (x + \\phi)\\right)$ or $\\cos\\left(\\frac{2 \\pi}{12} (x + \\phi)\\right)$ as long as $\\phi$ is properly set: $\\phi = \\pi / 2$ in the first case and $\\phi = 0$ in the second one.\n",
    "\n",
    "What are the limitations of this model?"
   ]
  },
  {
   "cell_type": "markdown",
   "metadata": {
    "deletable": false,
    "nbgrader": {
     "cell_type": "markdown",
     "checksum": "10b24f043ea774648ee168addf412f36",
     "grade": true,
     "grade_id": "cell-106b84e0a7ac2494",
     "locked": false,
     "points": 0,
     "schema_version": 3,
     "solution": true,
     "task": false
    }
   },
   "source": [
    "YOUR ANSWER HERE"
   ]
  },
  {
   "cell_type": "code",
   "execution_count": null,
   "metadata": {
    "deletable": false,
    "nbgrader": {
     "cell_type": "code",
     "checksum": "620d048a2497dccbb60bc70b525035bd",
     "grade": true,
     "grade_id": "cell-62bb51115ccdd8a9",
     "locked": false,
     "points": 1,
     "schema_version": 3,
     "solution": true,
     "task": false
    }
   },
   "outputs": [],
   "source": [
    "# YOUR CODE HERE\n",
    "raise NotImplementedError()"
   ]
  },
  {
   "cell_type": "markdown",
   "metadata": {
    "deletable": false,
    "nbgrader": {
     "cell_type": "markdown",
     "checksum": "0560b9984e05b1f0efeae3ff67e754f4",
     "grade": true,
     "grade_id": "cell-4e87cf97568b97c9",
     "locked": false,
     "points": 0,
     "schema_version": 3,
     "solution": true,
     "task": false
    }
   },
   "source": [
    "YOUR ANSWER HERE"
   ]
  },
  {
   "cell_type": "code",
   "execution_count": null,
   "metadata": {
    "deletable": false,
    "nbgrader": {
     "cell_type": "code",
     "checksum": "d2091a4f9b0023dadb8b85d5e8f03448",
     "grade": true,
     "grade_id": "cell-ee0f57f8b318cc78",
     "locked": false,
     "points": 1,
     "schema_version": 3,
     "solution": true,
     "task": false
    }
   },
   "outputs": [],
   "source": [
    "# YOUR CODE HERE\n",
    "raise NotImplementedError()"
   ]
  },
  {
   "cell_type": "markdown",
   "metadata": {
    "deletable": false,
    "nbgrader": {
     "cell_type": "markdown",
     "checksum": "6a7f42b4b82b787e509ce179ea993cd9",
     "grade": true,
     "grade_id": "cell-0006ec1dea5f87f9",
     "locked": false,
     "points": 0,
     "schema_version": 3,
     "solution": true,
     "task": false
    }
   },
   "source": [
    "YOUR ANSWER HERE"
   ]
  },
  {
   "cell_type": "code",
   "execution_count": null,
   "metadata": {
    "deletable": false,
    "nbgrader": {
     "cell_type": "code",
     "checksum": "f824d498390cf5860e0a0f9bad21a17f",
     "grade": true,
     "grade_id": "cell-a8de0d861f176e56",
     "locked": false,
     "points": 1,
     "schema_version": 3,
     "solution": true,
     "task": false
    }
   },
   "outputs": [],
   "source": [
    "# YOUR CODE HERE\n",
    "raise NotImplementedError()"
   ]
  },
  {
   "cell_type": "markdown",
   "metadata": {
    "deletable": false,
    "nbgrader": {
     "cell_type": "markdown",
     "checksum": "8ade3c73df9eb95ff3ade78933d5226c",
     "grade": true,
     "grade_id": "cell-6fd0e0c8b3f6fd4b",
     "locked": false,
     "points": 0,
     "schema_version": 3,
     "solution": true,
     "task": false
    }
   },
   "source": [
    "YOUR ANSWER HERE"
   ]
  },
  {
   "cell_type": "code",
   "execution_count": null,
   "metadata": {
    "deletable": false,
    "nbgrader": {
     "cell_type": "code",
     "checksum": "fb23de01522e550be5e25ea49c3bcda8",
     "grade": true,
     "grade_id": "cell-b97960e011f5f991",
     "locked": false,
     "points": 1,
     "schema_version": 3,
     "solution": true,
     "task": false
    }
   },
   "outputs": [],
   "source": [
    "# YOUR CODE HERE\n",
    "raise NotImplementedError()"
   ]
  },
  {
   "cell_type": "markdown",
   "metadata": {
    "deletable": false,
    "nbgrader": {
     "cell_type": "markdown",
     "checksum": "ca41f0ee3375817fb381bc44fbf0a919",
     "grade": true,
     "grade_id": "cell-e4df8a22b942b669",
     "locked": false,
     "points": 0,
     "schema_version": 3,
     "solution": true,
     "task": false
    }
   },
   "source": [
    "YOUR ANSWER HERE"
   ]
  },
  {
   "cell_type": "code",
   "execution_count": null,
   "metadata": {
    "deletable": false,
    "nbgrader": {
     "cell_type": "code",
     "checksum": "4e58d52b15bcd2da7d9c46d7e9521742",
     "grade": true,
     "grade_id": "cell-d94f61844dd909e3",
     "locked": false,
     "points": 1,
     "schema_version": 3,
     "solution": true,
     "task": false
    }
   },
   "outputs": [],
   "source": [
    "# YOUR CODE HERE\n",
    "raise NotImplementedError()"
   ]
  },
  {
   "cell_type": "markdown",
   "metadata": {
    "deletable": false,
    "nbgrader": {
     "cell_type": "markdown",
     "checksum": "2dfa79bfb6861e9abf2ad06d7b10be74",
     "grade": true,
     "grade_id": "cell-46cd582ab2c5f162",
     "locked": false,
     "points": 0,
     "schema_version": 3,
     "solution": true,
     "task": false
    }
   },
   "source": [
    "YOUR ANSWER HERE"
   ]
  },
  {
   "cell_type": "code",
   "execution_count": null,
   "metadata": {
    "deletable": false,
    "nbgrader": {
     "cell_type": "code",
     "checksum": "2aa8c965f563bd6372d56afe18ff24ce",
     "grade": true,
     "grade_id": "cell-bbba65658884f3a7",
     "locked": false,
     "points": 2,
     "schema_version": 3,
     "solution": true,
     "task": false
    }
   },
   "outputs": [],
   "source": [
    "# YOUR CODE HERE\n",
    "raise NotImplementedError()"
   ]
  }
 ],
 "metadata": {
  "kernelspec": {
   "display_name": "Python 3",
   "language": "python",
   "name": "python3"
  },
  "language_info": {
   "codemirror_mode": {
    "name": "ipython",
    "version": 3
   },
   "file_extension": ".py",
   "mimetype": "text/x-python",
   "name": "python",
   "nbconvert_exporter": "python",
   "pygments_lexer": "ipython3",
   "version": "3.7.4"
  },
  "toc-autonumbering": true
 },
 "nbformat": 4,
 "nbformat_minor": 4
}
